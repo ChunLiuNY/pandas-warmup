{
 "cells": [
  {
   "cell_type": "markdown",
   "metadata": {},
   "source": [
    "# Pandas Warmup: SF Salaries\n",
    "\n",
    "For this warmup you will apply your Pandas (and a bit of Matplotlib) skills to answer questions about a salaries dataset! We will use the [SF Salaries Dataset](https://www.kaggle.com/kaggle/sf-salaries) from Kaggle. Below are bolded instructions: the questions will start off on the easy side and get harder as you go along. Solutions are embedded right underneath each question."
   ]
  },
  {
   "cell_type": "markdown",
   "metadata": {},
   "source": [
    "Pandas documentation is here: http://pandas.pydata.org/pandas-docs/stable/\n",
    "\n",
    "Matplotlib documentation is here: https://matplotlib.org/api/pyplot_summary.html"
   ]
  },
  {
   "cell_type": "code",
   "execution_count": null,
   "metadata": {},
   "outputs": [],
   "source": [
    "# imports\n",
    "import numpy as np\n",
    "import pandas as pd\n",
    "import matplotlib.pyplot as plt\n",
    "%matplotlib inline"
   ]
  },
  {
   "cell_type": "markdown",
   "metadata": {},
   "source": [
    "**Load \"Salaries.csv\" into a dataframe.**"
   ]
  },
  {
   "cell_type": "code",
   "execution_count": null,
   "metadata": {},
   "outputs": [],
   "source": [
    "# your code here"
   ]
  },
  {
   "cell_type": "markdown",
   "metadata": {},
   "source": [
    "<details>\n",
    "  <summary>Click to expand the solution!</summary>\n",
    "    \n",
    "```python\n",
    "salary = pd.read_csv('data/Salaries.csv')\n",
    " ```\n",
    "</details>\n"
   ]
  },
  {
   "cell_type": "markdown",
   "metadata": {},
   "source": [
    "    "
   ]
  },
  {
   "cell_type": "markdown",
   "metadata": {},
   "source": [
    "**Check the head of the dataframe.**"
   ]
  },
  {
   "cell_type": "code",
   "execution_count": null,
   "metadata": {},
   "outputs": [],
   "source": [
    "# your code here"
   ]
  },
  {
   "cell_type": "markdown",
   "metadata": {},
   "source": [
    "<details>\n",
    "  <summary>Click to expand the solution!</summary>\n",
    "    \n",
    "```python\n",
    "salary.head()\n",
    " ```\n",
    "</details>"
   ]
  },
  {
   "cell_type": "markdown",
   "metadata": {},
   "source": [
    "    "
   ]
  },
  {
   "cell_type": "markdown",
   "metadata": {},
   "source": [
    "**How many entries, or rows are there?**"
   ]
  },
  {
   "cell_type": "code",
   "execution_count": null,
   "metadata": {},
   "outputs": [],
   "source": [
    "# your code here"
   ]
  },
  {
   "cell_type": "markdown",
   "metadata": {},
   "source": [
    "<details>\n",
    "  <summary>Click to expand the solution!</summary>\n",
    "\n",
    "148,654 rows\n",
    "    \n",
    "```python\n",
    "salary.info()\n",
    " ```\n",
    "Alternatively:\n",
    "```python\n",
    "len(salary)\n",
    " ``` \n",
    "</details>"
   ]
  },
  {
   "cell_type": "markdown",
   "metadata": {},
   "source": [
    "    "
   ]
  },
  {
   "cell_type": "markdown",
   "metadata": {},
   "source": [
    "**What is the average total salary (without benefits)?**"
   ]
  },
  {
   "cell_type": "code",
   "execution_count": 9,
   "metadata": {},
   "outputs": [],
   "source": [
    "# your code here"
   ]
  },
  {
   "cell_type": "markdown",
   "metadata": {},
   "source": [
    "<details>\n",
    "  <summary>Click to expand the solution!</summary>\n",
    "    \n",
    "$74,768.32\n",
    "\n",
    "```python\n",
    "salary['TotalPay'].mean()\n",
    " ```\n",
    "</details>"
   ]
  },
  {
   "cell_type": "markdown",
   "metadata": {},
   "source": [
    "   "
   ]
  },
  {
   "cell_type": "markdown",
   "metadata": {},
   "source": [
    "**What is the lowest base salary amount? The highest?**"
   ]
  },
  {
   "cell_type": "code",
   "execution_count": null,
   "metadata": {},
   "outputs": [],
   "source": [
    "# your code here"
   ]
  },
  {
   "cell_type": "markdown",
   "metadata": {},
   "source": [
    "<details>\n",
    "  <summary>Click to expand the solution!</summary>\n",
    "    \n",
    "Lowest base salary is -$166.01 \n",
    "\n",
    "Highest base salary is $319,275.01\n",
    "    \n",
    "```python\n",
    "min_sal = salary['BasePay'].min()\n",
    "max_sal = salary['BasePay'].max()\n",
    "print(f'Lowest base salary: ${min_sal}')\n",
    "print(f'Highest base salary: ${max_sal}')\n",
    " ```\n",
    "</details>"
   ]
  },
  {
   "cell_type": "markdown",
   "metadata": {},
   "source": [
    "    "
   ]
  },
  {
   "cell_type": "markdown",
   "metadata": {},
   "source": [
    "**Plot a histogram showing the frequency distribution of base salaries. Add an appropriate title and axis labels. How would you describe this distribution? What happens when you increase the bin size?**"
   ]
  },
  {
   "cell_type": "code",
   "execution_count": null,
   "metadata": {},
   "outputs": [],
   "source": [
    "# your code here"
   ]
  },
  {
   "cell_type": "markdown",
   "metadata": {},
   "source": [
    "<details>\n",
    "  <summary>Click to expand the solution!</summary>\n",
    "    \n",
    "```python\n",
    "fig, ax = plt.subplots()\n",
    "ax.hist(sal['BasePay'],bins=10)\n",
    "ax.set_xlabel('Base Salary')\n",
    "ax.set_ylabel('Frequency')\n",
    "ax.set_title('Base Salary: Frequency Distribution')\n",
    "plt.show()\n",
    " ```\n",
    "    \n",
    "Using a bin size of 10, the distribution of base salaries appears to be right-skewed. As we increase the number of bins, we see more peaks emerge, and the distribution becomes increasingly multimodal. Using a bin size of 50 for instance, we can clearly see one peak close to 0, another between 50,000 and 100,000, and another close to 100,000. \n",
    "</details>"
   ]
  },
  {
   "cell_type": "markdown",
   "metadata": {},
   "source": [
    "   "
   ]
  },
  {
   "cell_type": "markdown",
   "metadata": {},
   "source": [
    "**What are the three most common job titles?**"
   ]
  },
  {
   "cell_type": "code",
   "execution_count": null,
   "metadata": {},
   "outputs": [],
   "source": [
    "# your code here"
   ]
  },
  {
   "cell_type": "markdown",
   "metadata": {},
   "source": [
    "<details>\n",
    "  <summary>Click to expand the solution!</summary>\n",
    "\n",
    "The three most common titles are Transit Operator, Special Nurse, and Registered Nurse.\n",
    "    \n",
    "```python\n",
    "salary['JobTitle'].value_counts().iloc[:3]\n",
    " ```\n",
    "Alternatively:\n",
    "```python\n",
    "salary['JobTitle'].value_counts().head(3)\n",
    " ```     \n",
    "</details>"
   ]
  },
  {
   "cell_type": "markdown",
   "metadata": {},
   "source": [
    "   "
   ]
  },
  {
   "cell_type": "markdown",
   "metadata": {},
   "source": [
    "**How many unique job titles are there?**"
   ]
  },
  {
   "cell_type": "code",
   "execution_count": null,
   "metadata": {},
   "outputs": [],
   "source": [
    "# your code here"
   ]
  },
  {
   "cell_type": "markdown",
   "metadata": {},
   "source": [
    "<details>\n",
    "  <summary>Click to expand the solution!</summary>\n",
    "\n",
    "There are 2,159 unique job titles.\n",
    "```python\n",
    "salary['JobTitle'].nunique()\n",
    " ``` \n",
    "</details>"
   ]
  },
  {
   "cell_type": "markdown",
   "metadata": {},
   "source": [
    "    "
   ]
  },
  {
   "cell_type": "markdown",
   "metadata": {},
   "source": [
    "**What is the job title and base salary of \"VENUS AZAR\"?**"
   ]
  },
  {
   "cell_type": "code",
   "execution_count": null,
   "metadata": {},
   "outputs": [],
   "source": [
    "# your code here"
   ]
  },
  {
   "cell_type": "markdown",
   "metadata": {},
   "source": [
    "<details>\n",
    "  <summary>Click to expand the solution!</summary>\n",
    "\n",
    "Assistant Medical Examiner, $257,510.48\n",
    "\n",
    "```python\n",
    "salary[salary['EmployeeName']=='VENUS AZAR'][['JobTitle','BasePay']]\n",
    " ``` \n",
    "</details>"
   ]
  },
  {
   "cell_type": "markdown",
   "metadata": {},
   "source": [
    "    "
   ]
  },
  {
   "cell_type": "markdown",
   "metadata": {},
   "source": [
    "**For how many employees does the sum of overtime pay and other pay exceed base salary?**"
   ]
  },
  {
   "cell_type": "code",
   "execution_count": null,
   "metadata": {},
   "outputs": [],
   "source": [
    "# your code here"
   ]
  },
  {
   "cell_type": "markdown",
   "metadata": {},
   "source": [
    "<details>\n",
    "  <summary>Click to expand the solution!</summary>\n",
    "\n",
    "2,706 employees\n",
    "    \n",
    "```python\n",
    "len(salary[salary['OvertimePay']+salary['OtherPay']>salary['BasePay']])\n",
    " ``` \n",
    "</details>"
   ]
  },
  {
   "cell_type": "markdown",
   "metadata": {},
   "source": [
    "   "
   ]
  },
  {
   "cell_type": "markdown",
   "metadata": {},
   "source": [
    "**Who had the highest salary (including benefits) in 2013?**"
   ]
  },
  {
   "cell_type": "code",
   "execution_count": null,
   "metadata": {},
   "outputs": [],
   "source": [
    "# your code here"
   ]
  },
  {
   "cell_type": "markdown",
   "metadata": {},
   "source": [
    "<details>\n",
    "  <summary>Click to expand the solution!</summary>\n",
    "\n",
    "Gregory P Suhr had the highest salary (including benefits) in 2013.\n",
    "    \n",
    "```python\n",
    "salary_2013 = salary[(salary['Year']==2013)]\n",
    "salary_2013[salary_2013['TotalPayBenefits']==salary_2013['TotalPayBenefits'].max()]['EmployeeName'] \n",
    "``` \n",
    "\n",
    "</details>"
   ]
  },
  {
   "cell_type": "markdown",
   "metadata": {},
   "source": [
    "   "
   ]
  },
  {
   "cell_type": "markdown",
   "metadata": {},
   "source": [
    "**Calculate the median base salary of all employees for each year (from 2011-2014). Graph the median base salary over time. Add axis labels and an appropriate title.**"
   ]
  },
  {
   "cell_type": "code",
   "execution_count": null,
   "metadata": {},
   "outputs": [],
   "source": [
    "# your code here"
   ]
  },
  {
   "cell_type": "markdown",
   "metadata": {},
   "source": [
    "<details>\n",
    "  <summary>Click to expand the solution!</summary>\n",
    "    \n",
    "```python\n",
    "grouped_basepay = salary.groupby('Year').median()['BasePay']\n",
    "    \n",
    "fig,ax = plt.subplots()\n",
    "x_ticks = np.arange(2011, 2015, 1)\n",
    "plt.xticks(x_ticks)\n",
    "ax.plot(grouped_basepay)\n",
    "ax.set_xlabel(\"Year\")\n",
    "ax.set_ylabel(\"Base Salary\")\n",
    "ax.set_title(\"Median Base Salary: 2011 - 2014\")\n",
    "plt.show()\n",
    "``` \n",
    "\n",
    "</details>"
   ]
  },
  {
   "cell_type": "markdown",
   "metadata": {},
   "source": [
    "   "
   ]
  },
  {
   "cell_type": "markdown",
   "metadata": {},
   "source": [
    "**Calculate the median total pay (without benefits) and median total pay (with benefits) for each year. Graph both of these on the same figure. Add a legend, axis labels and an appropriate title.**"
   ]
  },
  {
   "cell_type": "code",
   "execution_count": null,
   "metadata": {},
   "outputs": [],
   "source": [
    "# your code here"
   ]
  },
  {
   "cell_type": "markdown",
   "metadata": {},
   "source": [
    "<details>\n",
    "  <summary>Click to expand the solution!</summary>\n",
    "    \n",
    "```python\n",
    "grouped_totalpay = sal.groupby('Year').median()[['TotalPay','TotalPayBenefits']]\n",
    "    \n",
    "fig,ax = plt.subplots()\n",
    "x_ticks = np.arange(2011, 2015, 1)\n",
    "plt.xticks(x_ticks)\n",
    "ax.plot(grouped_totalpay['TotalPay'],label='Total Pay (Without Benefits)')\n",
    "ax.plot(grouped_totalpay['TotalPayBenefits'],label='Total Pay (With Benefits)')\n",
    "ax.legend(loc='best')\n",
    "ax.set_xlabel(\"Year\")\n",
    "ax.set_ylabel(\"Base Salary\")\n",
    "ax.set_title(\"Total Pay (With and Without Benefits): 2011 - 2014\")\n",
    "plt.show()\n",
    "``` \n",
    "\n",
    "</details>"
   ]
  },
  {
   "cell_type": "markdown",
   "metadata": {},
   "source": [
    "    "
   ]
  },
  {
   "cell_type": "markdown",
   "metadata": {},
   "source": [
    "**What are the top 3 job titles with the highest average total salaries (including benefits)?**"
   ]
  },
  {
   "cell_type": "code",
   "execution_count": null,
   "metadata": {},
   "outputs": [],
   "source": [
    "# your code here"
   ]
  },
  {
   "cell_type": "markdown",
   "metadata": {},
   "source": [
    "<details>\n",
    "  <summary>Click to expand the solution!</summary>\n",
    "\n",
    "The top three job titles are Chief Investment Officer, Chief of Police, and Chief, Fire Department.\n",
    "    \n",
    "```python\n",
    "salary.groupby('JobTitle').mean()['TotalPayBenefits'].sort_values(ascending=False).head(3)\n",
    "``` \n",
    "\n",
    "</details>"
   ]
  },
  {
   "cell_type": "markdown",
   "metadata": {},
   "source": [
    "    "
   ]
  },
  {
   "cell_type": "markdown",
   "metadata": {},
   "source": [
    "**How many job titles are represented by only one person in 2013? (e.g. job titles with only one occurence in 2013?)**"
   ]
  },
  {
   "cell_type": "code",
   "execution_count": null,
   "metadata": {},
   "outputs": [],
   "source": [
    "# your code here"
   ]
  },
  {
   "cell_type": "markdown",
   "metadata": {},
   "source": [
    "<details>\n",
    "  <summary>Click to expand the solution!</summary>\n",
    "    \n",
    "202 job titles are represented by just one person in 2013.\n",
    "    \n",
    "```python\n",
    "(salary[salary['Year']==2013]['JobTitle'].value_counts() == 1).sum() \n",
    "``` \n",
    "\n",
    "</details>"
   ]
  },
  {
   "cell_type": "markdown",
   "metadata": {},
   "source": [
    "    "
   ]
  },
  {
   "cell_type": "markdown",
   "metadata": {},
   "source": [
    "**How many employees' first names start with 'C'? Hint: An \"apply\" method may be helpful here.**"
   ]
  },
  {
   "cell_type": "code",
   "execution_count": null,
   "metadata": {},
   "outputs": [],
   "source": [
    "# your code here"
   ]
  },
  {
   "cell_type": "markdown",
   "metadata": {},
   "source": [
    "<details>\n",
    "  <summary>Click to expand the solution!</summary>\n",
    "    \n",
    "9,845 employees' first names start with 'C'.\n",
    "    \n",
    "```python\n",
    "salary['EmployeeName'].apply(lambda x: x[0] == 'C').sum() \n",
    "``` \n",
    "\n",
    "</details>"
   ]
  },
  {
   "cell_type": "markdown",
   "metadata": {},
   "source": [
    "   "
   ]
  },
  {
   "cell_type": "markdown",
   "metadata": {},
   "source": [
    "**BONUS: How many employees have the word General in their job title? Note that some titles are completely uppercase while others are capitalized, and that here we'll want to account for all cases (i.e. 'general' = 'General' = 'GENERAL' = 'gEnErAl')**"
   ]
  },
  {
   "cell_type": "code",
   "execution_count": null,
   "metadata": {},
   "outputs": [],
   "source": [
    "# your code here"
   ]
  },
  {
   "cell_type": "markdown",
   "metadata": {},
   "source": [
    "<details>\n",
    "  <summary>Click to expand the solution!</summary>\n",
    "    \n",
    "1,675 employees have the word \"General\" in their job title. One way to approach this problem is to first create a custom function that returns a boolean depending on whether a given string is in the title, pass that function to the apply method (which applies the function to each row in the job title column), and then sum up the number of True values.\n",
    "    \n",
    "```python    \n",
    "def string_job_title(title,string):\n",
    "    if string.lower() in title.lower():\n",
    "        return True\n",
    "    else:\n",
    "        return False\n",
    "\n",
    "sum(salary['JobTitle'].apply(lambda x: string_job_title(x,'General')))\n",
    "``` \n",
    "    \n",
    "</details>"
   ]
  },
  {
   "cell_type": "markdown",
   "metadata": {},
   "source": [
    "**GREAT JOB!**"
   ]
  },
  {
   "cell_type": "code",
   "execution_count": null,
   "metadata": {},
   "outputs": [],
   "source": []
  }
 ],
 "metadata": {
  "kernelspec": {
   "display_name": "Python 3",
   "language": "python",
   "name": "python3"
  },
  "language_info": {
   "codemirror_mode": {
    "name": "ipython",
    "version": 3
   },
   "file_extension": ".py",
   "mimetype": "text/x-python",
   "name": "python",
   "nbconvert_exporter": "python",
   "pygments_lexer": "ipython3",
   "version": "3.8.3"
  }
 },
 "nbformat": 4,
 "nbformat_minor": 1
}
